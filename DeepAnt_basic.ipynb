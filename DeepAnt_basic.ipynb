{
 "cells": [
  {
   "cell_type": "code",
   "execution_count": 1,
   "id": "hazardous-address",
   "metadata": {},
   "outputs": [],
   "source": [
    "import numpy as np\n",
    "from numpy import array\n",
    "import random\n",
    "from random import randint\n",
    "import os\n",
    "import matplotlib.pyplot as plt\n",
    "import pandas as pd\n",
    "import torch\n",
    "import torch.nn as nn\n",
    "import torch.nn.init as init\n",
    "import torch.optim as optim\n",
    "from torch.utils.data import DataLoader, TensorDataset"
   ]
  },
  {
   "cell_type": "markdown",
   "id": "attempted-youth",
   "metadata": {},
   "source": [
    "# 하이퍼 파라미터"
   ]
  },
  {
   "cell_type": "code",
   "execution_count": 2,
   "id": "durable-bikini",
   "metadata": {},
   "outputs": [],
   "source": [
    "w = 2000                 # History window (number of time stamps taken into account) \n",
    "                         # i.e., filter(kernel) size       \n",
    "p_w = 300                # Prediction window (number of time stampes required to be \n",
    "                         # predicted)\n",
    "n_features = 1           # Univariate time series\n",
    "\n",
    "kernel_size = 2          # Size of filter in conv layers\n",
    "num_filt_1 = 32          # Number of filters in first conv layer\n",
    "num_filt_2 = 32          # Number of filters in second conv layer\n",
    "num_nrn_dl = 40          # Number of neurons in dense layer\n",
    "num_nrn_ol = p_w         # Number of neurons in output layer\n",
    "\n",
    "conv_strides = 1\n",
    "pool_size_1 = 2          # Length of window of pooling layer 1\n",
    "pool_size_2 = 2          # Length of window of pooling layer 2\n",
    "pool_strides_1 = 2       # Stride of window of pooling layer 1\n",
    "pool_strides_2 = 2       # Stride of window of pooling layer 2\n",
    "\n",
    "epochs = 30\n",
    "dropout_rate = 0.5       # Dropout rate in the fully connected layer\n",
    "learning_rate = 2e-5  \n",
    "anm_det_thr = 0.8        # Threshold for classifying anomaly (0.5~0.8)"
   ]
  },
  {
   "cell_type": "markdown",
   "id": "breathing-approval",
   "metadata": {},
   "source": [
    "# Anomaly Detector"
   ]
  },
  {
   "cell_type": "code",
   "execution_count": 3,
   "id": "buried-division",
   "metadata": {},
   "outputs": [],
   "source": [
    "def anomaly_detector(prediction_seq, ground_truth_seq):\n",
    "    \n",
    "    dist = np.linalg.norm(ground_truth_seq - prediction_seq)\n",
    "    \n",
    "    if (dist > anm_det_thr):\n",
    "        return true  # anomaly\n",
    "    else:\n",
    "        return false # normal"
   ]
  },
  {
   "cell_type": "markdown",
   "id": "gothic-findings",
   "metadata": {},
   "source": [
    "# Data 불러오기 / 임의 생성"
   ]
  },
  {
   "cell_type": "code",
   "execution_count": 4,
   "id": "preceding-honolulu",
   "metadata": {},
   "outputs": [],
   "source": [
    "df_sine = pd.read_csv('https://raw.githubusercontent.com/swlee23/Deep-Learning-Time-Series-Anomaly-Detection/master/data/sinewave.csv')\n",
    "# plt.plot(df_sine['sinewave'])\n",
    "# plt.title('sinewave')\n",
    "# plt.ylabel('value')\n",
    "# plt.xlabel('time')\n",
    "# plt.legend(['sinewave'], loc='upper right')\n",
    "# plt.figure(figsize=(100,10))\n",
    "# plt.show()\n",
    "# df_sine.head()"
   ]
  },
  {
   "cell_type": "markdown",
   "id": "tropical-governor",
   "metadata": {},
   "source": [
    "# 데이터 window_size로 나누기"
   ]
  },
  {
   "cell_type": "code",
   "execution_count": 9,
   "id": "ranking-paste",
   "metadata": {},
   "outputs": [],
   "source": [
    "def split_sequence_to_dataset(sequence):\n",
    "    X, y = list(), list()\n",
    "    for i in range(len(sequence)):\n",
    "\n",
    "        end_ix = i + w\n",
    "        out_end_ix = end_ix + p_w\n",
    "        \n",
    "        if out_end_ix > len(sequence):\n",
    "            break\n",
    "            \n",
    "        seq_x, seq_y = sequence[i:end_ix], sequence[end_ix:out_end_ix]\n",
    "        \n",
    "        X.append(seq_x)\n",
    "        y.append(seq_y)\n",
    "    \n",
    "    X = np.array(X)\n",
    "    X = X.reshape(X.shape[0], X.shape[1], n_features)\n",
    "    y = np.array(y)\n",
    "    \n",
    "    X = torch.from_numpy(X)\n",
    "    y = torch.from_numpy(y)\n",
    "#     print(X.shape)\n",
    "    tensor_dataset = TensorDataset(X,y)\n",
    "        \n",
    "    return tensor_dataset\n",
    "raw_seq = list(df_sine['sinewave'])"
   ]
  },
  {
   "cell_type": "code",
   "execution_count": 10,
   "id": "eleven-electricity",
   "metadata": {},
   "outputs": [],
   "source": [
    "train_dataset = split_sequence_to_dataset(raw_seq)\n",
    "\n",
    "train_loader = DataLoader(train_dataset, shuffle = False, batch_size = 1, drop_last=False)"
   ]
  },
  {
   "cell_type": "markdown",
   "id": "fancy-universal",
   "metadata": {},
   "source": [
    "# 모델  만들기"
   ]
  },
  {
   "cell_type": "code",
   "execution_count": 11,
   "id": "gentle-bumper",
   "metadata": {},
   "outputs": [],
   "source": [
    "class DeepAnt(nn.Module):\n",
    "    def __init__(self,in_channels,out_channels,kernel_size,stride,padding=0):\n",
    "        super(DeepAnt,self).__init__()\n",
    "        self.in_channels = in_channels\n",
    "        self.out_channels = out_channels\n",
    "        self.kernel_size = kernel_size\n",
    "        self.stride = stride\n",
    "        self.padding = padding\n",
    "        \n",
    "        self.conv1d_1 = nn.Conv1d(in_channels,out_channels,kernel_size = kernel_size, stride = stride, padding = padding)\n",
    "        self.relu_1 = nn.ReLU()\n",
    "        self.maxpool_1 = nn.MaxPool1d(kernel_size = pool_size_1)\n",
    "        \n",
    "        self.conv1d_2 = nn.Conv1d(out_channels,in_channels * out_channels,kernel_size = kernel_size, stride = stride, padding = padding)\n",
    "        self.relu_2 = nn.ReLU()\n",
    "        self.maxpool_2 = nn.MaxPool1d(kernel_size = pool_size_1)\n",
    "        \n",
    "        self.dropout = nn.Dropout(p = dropout_rate)\n",
    "        \n",
    "        self.flatten = nn.Flatten()\n",
    "        self.dense_1 = nn.Linear( int((w/4 - 1) * num_filt_1),1024)\n",
    "        self.relu_3 = nn.ReLU()\n",
    "        self.output_dense = nn.Linear(1024,p_w)\n",
    "    \n",
    "    def forward(self,x):\n",
    "        x = x.reshape(x.size(0),x.size(2),x.size(1))\n",
    "        output = self.conv1d_1(x)\n",
    "        output = self.relu_1(output)\n",
    "        output = self.maxpool_1(output)\n",
    "#         print(output.shape) # torch.Size([1, 32, 999])\n",
    "        \n",
    "        \n",
    "        output = self.conv1d_2(output)\n",
    "        output = self.relu_2(output)\n",
    "        output = self.maxpool_2(output)\n",
    "#         print(output.shape) #torch.Size([1, 32, 499])\n",
    "        \n",
    "        output = self.flatten(output)\n",
    "#         print(output.shape)\n",
    "#         print(int(w * (num_filt_1/4) * num_filt_1))\n",
    "        output = self.dense_1(output)\n",
    "        output = self.dropout(output)\n",
    "        output = self.relu_3(output)\n",
    "        \n",
    "        output = self.output_dense(output)\n",
    "        \n",
    "        return output\n"
   ]
  },
  {
   "cell_type": "code",
   "execution_count": 12,
   "id": "acoustic-accreditation",
   "metadata": {},
   "outputs": [],
   "source": [
    "model = DeepAnt(in_channels = n_features, out_channels = num_filt_1, kernel_size = kernel_size, stride = conv_strides, padding=0)"
   ]
  },
  {
   "cell_type": "code",
   "execution_count": 13,
   "id": "rapid-helmet",
   "metadata": {},
   "outputs": [],
   "source": [
    "loss_func = nn.L1Loss()\n",
    "optimizer = optim.SGD(model.parameters(), lr = 1e-6 )"
   ]
  },
  {
   "cell_type": "markdown",
   "id": "fifteen-furniture",
   "metadata": {},
   "source": [
    "# 학습"
   ]
  },
  {
   "cell_type": "code",
   "execution_count": 14,
   "id": "large-rental",
   "metadata": {},
   "outputs": [],
   "source": [
    "def training(model,optimizer,loss_func,train_loader,epochs):\n",
    "    loss_arr = []\n",
    "    for i in range(epochs):\n",
    "        \n",
    "        optimizer.zero_grad()\n",
    "        loss = 0\n",
    "        for j, (x,y) in enumerate(train_loader):\n",
    "            y = y.type(torch.int64)\n",
    "            predict = model(x.float())\n",
    "            loss += loss_func(predict,y) \n",
    "\n",
    "        loss.backward()\n",
    "        optimizer.step()\n",
    "        loss_arr.append(loss)\n",
    "\n",
    "#   if i %10 == 0:\n",
    "#     print(\"%d번째 loss:%d \"%(i+1,loss))\n",
    "    return model, loss_arr"
   ]
  },
  {
   "cell_type": "code",
   "execution_count": 15,
   "id": "humanitarian-factory",
   "metadata": {},
   "outputs": [],
   "source": [
    "model = model.float()\n",
    "model, loss_arr = training(model, optimizer, loss_func, train_loader, epochs)"
   ]
  },
  {
   "cell_type": "code",
   "execution_count": 16,
   "id": "amber-validation",
   "metadata": {},
   "outputs": [
    {
     "data": {
      "text/plain": [
       "[tensor(163.5871, grad_fn=<AddBackward0>),\n",
       " tensor(162.1322, grad_fn=<AddBackward0>),\n",
       " tensor(160.0524, grad_fn=<AddBackward0>),\n",
       " tensor(158.7062, grad_fn=<AddBackward0>),\n",
       " tensor(156.7125, grad_fn=<AddBackward0>),\n",
       " tensor(154.9849, grad_fn=<AddBackward0>),\n",
       " tensor(153.4668, grad_fn=<AddBackward0>),\n",
       " tensor(151.6037, grad_fn=<AddBackward0>),\n",
       " tensor(150.1666, grad_fn=<AddBackward0>),\n",
       " tensor(148.7116, grad_fn=<AddBackward0>),\n",
       " tensor(147.0402, grad_fn=<AddBackward0>),\n",
       " tensor(145.3737, grad_fn=<AddBackward0>),\n",
       " tensor(143.8744, grad_fn=<AddBackward0>),\n",
       " tensor(142.5226, grad_fn=<AddBackward0>),\n",
       " tensor(140.9270, grad_fn=<AddBackward0>),\n",
       " tensor(139.5680, grad_fn=<AddBackward0>),\n",
       " tensor(137.8327, grad_fn=<AddBackward0>),\n",
       " tensor(136.4460, grad_fn=<AddBackward0>),\n",
       " tensor(135.0627, grad_fn=<AddBackward0>),\n",
       " tensor(133.6498, grad_fn=<AddBackward0>),\n",
       " tensor(132.2347, grad_fn=<AddBackward0>),\n",
       " tensor(130.7693, grad_fn=<AddBackward0>),\n",
       " tensor(129.2962, grad_fn=<AddBackward0>),\n",
       " tensor(128.5151, grad_fn=<AddBackward0>),\n",
       " tensor(127.2094, grad_fn=<AddBackward0>),\n",
       " tensor(125.8258, grad_fn=<AddBackward0>),\n",
       " tensor(124.7546, grad_fn=<AddBackward0>),\n",
       " tensor(123.4790, grad_fn=<AddBackward0>),\n",
       " tensor(122.2320, grad_fn=<AddBackward0>),\n",
       " tensor(121.1101, grad_fn=<AddBackward0>)]"
      ]
     },
     "execution_count": 16,
     "metadata": {},
     "output_type": "execute_result"
    }
   ],
   "source": [
    "loss_arr"
   ]
  },
  {
   "cell_type": "code",
   "execution_count": 17,
   "id": "respected-honor",
   "metadata": {},
   "outputs": [
    {
     "data": {
      "image/png": "[encoded data removed]",
      "text/plain": [
       "<Figure size 432x288 with 1 Axes>"
      ]
     },
     "metadata": {
      "needs_background": "light"
     },
     "output_type": "display_data"
    }
   ],
   "source": [
    "plt.plot(loss_arr)\n",
    "plt.show()"
   ]
  },
  {
   "cell_type": "markdown",
   "id": "irish-angel",
   "metadata": {},
   "source": [
    "# 테스트"
   ]
  },
  {
   "cell_type": "code",
   "execution_count": 18,
   "id": "electronic-growing",
   "metadata": {},
   "outputs": [],
   "source": [
    "# Set number of test sequences \n",
    "n_test_seq = 1\n",
    "\n",
    "# Split a univariate sequence into samples\n",
    "def generate_test_batch(raw_seq, n_test_seq):\n",
    "  # Sample a portion of the raw_seq randomly\n",
    "    ran_ix = random.randint(0,len(raw_seq) - n_test_seq * w - n_test_seq * p_w)\n",
    "    raw_test_seq = array(raw_seq[ran_ix:ran_ix + n_test_seq * w +  n_test_seq * p_w])\n",
    "    batch_test_seq, batch_test_label = list(), list()\n",
    "    ix = ran_ix\n",
    "    for i in range(n_test_seq):\n",
    "        # gather input and output parts of the pattern\n",
    "        seq_x = raw_seq[ix : ix+w],\n",
    "        seq_y = raw_seq[ix+w : ix+w+p_w]\n",
    "        ix = ix+w+p_w\n",
    "        batch_test_seq.append(seq_x)\n",
    "        batch_test_label.append(seq_y)\n",
    "        \n",
    "        \n",
    "    batch_test_seq = np.array(batch_test_seq)\n",
    "    batch_test_seq = batch_test_seq.reshape(batch_test_seq.shape[0], batch_test_seq.shape[2], n_features)\n",
    "    batch_test_label = np.array(batch_test_label)\n",
    "    batch_test_label = batch_test_label.reshape(batch_test_label.shape[0], p_w)\n",
    "    \n",
    "    batch_test_seq = torch.from_numpy(batch_test_seq)\n",
    "    batch_test_label = torch.from_numpy(batch_test_label)\n",
    "    \n",
    "    test_dataset = TensorDataset(batch_test_seq,batch_test_label)\n",
    "        \n",
    "    return test_dataset"
   ]
  },
  {
   "cell_type": "code",
   "execution_count": 19,
   "id": "incomplete-interview",
   "metadata": {},
   "outputs": [],
   "source": [
    "test_dataset = generate_test_batch(list(df_sine['sinewave']), n_test_seq)\n",
    "\n",
    "test_loader = DataLoader(test_dataset, shuffle = False, batch_size = 1, drop_last=False)"
   ]
  },
  {
   "cell_type": "code",
   "execution_count": 20,
   "id": "italic-emission",
   "metadata": {},
   "outputs": [],
   "source": [
    "def testing(testdataloader,model_):\n",
    "    model_.eval()\n",
    "    loss = 0\n",
    "    eval_loss = []\n",
    "    predict_array = []\n",
    "    with torch.no_grad():\n",
    "        for i,(x,y) in enumerate(testdataloader):\n",
    "#             x,y = Variable(x), Variable(y)\n",
    "#             y = y.type(torch.int64)\n",
    "            \n",
    "            predict = model_(x.float())\n",
    "            predict_array.append(predict.reshape(-1))\n",
    "            loss += loss_func(predict,y)\n",
    "            \n",
    "    print('Loss : ', loss)\n",
    "    \n",
    "    return predict_array"
   ]
  },
  {
   "cell_type": "code",
   "execution_count": 21,
   "id": "derived-theta",
   "metadata": {},
   "outputs": [
    {
     "name": "stdout",
     "output_type": "stream",
     "text": [
      "Loss :  tensor(0.6376, dtype=torch.float64)\n"
     ]
    }
   ],
   "source": [
    "predicted_seq = testing(test_loader, model)\n",
    "predicted_seq = np.array(predicted_seq[0])"
   ]
  },
  {
   "cell_type": "markdown",
   "id": "empty-thailand",
   "metadata": {},
   "source": [
    "# 예측 결과 시각화"
   ]
  },
  {
   "cell_type": "code",
   "execution_count": 22,
   "id": "royal-visibility",
   "metadata": {},
   "outputs": [],
   "source": [
    "raw_seq = list(df_sine['sinewave'])\n",
    "endix = len(raw_seq) - w - p_w\n",
    "input_seq = array(raw_seq[endix:endix+w])\n",
    "target_seq = array(raw_seq[endix+w:endix+w+p_w]) \n",
    "input_seq = input_seq.reshape((1, w, n_features))"
   ]
  },
  {
   "cell_type": "code",
   "execution_count": 23,
   "id": "animated-catholic",
   "metadata": {},
   "outputs": [
    {
     "data": {
      "image/png": "[encoded data removed]",
      "text/plain": [
       "<Figure size 432x288 with 1 Axes>"
      ]
     },
     "metadata": {
      "needs_background": "light"
     },
     "output_type": "display_data"
    },
    {
     "data": {
      "text/plain": [
       "<Figure size 7200x720 with 0 Axes>"
      ]
     },
     "metadata": {},
     "output_type": "display_data"
    }
   ],
   "source": [
    "in_seq = df_sine['sinewave'][endix:endix+w]\n",
    "tar_seq = df_sine['sinewave'][endix+w:endix+w+p_w]\n",
    "predicted_seq = predicted_seq.reshape((p_w))\n",
    "d = {'time': df_sine['time'][endix+w:endix+w+p_w], 'values': predicted_seq}\n",
    "df_sine_pre = pd.DataFrame(data=d)\n",
    "pre_seq = df_sine_pre['values']\n",
    "\n",
    "plt.plot(in_seq)\n",
    "plt.plot(tar_seq)\n",
    "plt.plot(pre_seq)\n",
    "plt.title('sinewave prediction')\n",
    "plt.ylabel('value')\n",
    "plt.xlabel('time')\n",
    "plt.legend(['input_seq', 'target_seq', 'pre_seq'], loc='upper right')\n",
    "axes = plt.gca()\n",
    "axes.set_xlim([endix,endix+w+p_w])\n",
    "fig_predict = plt.figure(figsize=(100,10))\n",
    "# fig_predict.savefig('predicted_sequence.png')\n",
    "plt.show()"
   ]
  },
  {
   "cell_type": "markdown",
   "id": "ranging-coating",
   "metadata": {},
   "source": [
    "# 모델 저장하기"
   ]
  },
  {
   "cell_type": "code",
   "execution_count": null,
   "id": "coordinate-accountability",
   "metadata": {},
   "outputs": [],
   "source": [
    "#모델 저장하기\n",
    "torch.save(model.state_dict(), 'Basic_DeepAnt.pt')"
   ]
  }
 ],
 "metadata": {
  "kernelspec": {
   "display_name": "Python 3",
   "language": "python",
   "name": "python3"
  },
  "language_info": {
   "codemirror_mode": {
    "name": "ipython",
    "version": 3
   },
   "file_extension": ".py",
   "mimetype": "text/x-python",
   "name": "python",
   "nbconvert_exporter": "python",
   "pygments_lexer": "ipython3",
   "version": "3.7.0"
  }
 },
 "nbformat": 4,
 "nbformat_minor": 5
}
